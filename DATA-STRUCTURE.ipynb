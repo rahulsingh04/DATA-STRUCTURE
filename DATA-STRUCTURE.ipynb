{
 "cells": [
  {
   "cell_type": "markdown",
   "id": "e1eec95d",
   "metadata": {},
   "source": [
    "### LINEAR SEARCH :---->"
   ]
  },
  {
   "cell_type": "code",
   "execution_count": 1,
   "id": "cd2ec967",
   "metadata": {},
   "outputs": [
    {
     "name": "stdout",
     "output_type": "stream",
     "text": [
      "Number Is Found the Index is 5\n"
     ]
    }
   ],
   "source": [
    "def linear_search(arr, search_element):\n",
    "    for i in range(len(arr)):\n",
    "        if arr[i]==search_element:\n",
    "            return(\"Number Is Found the Index is {0}\".format(i))\n",
    "    return -1\n",
    "\n",
    "arr =[12,34,56,78,90,9,87,76,65,54,43,32,21]\n",
    "search_element = 9\n",
    "print(linear_search(arr, search_element))"
   ]
  },
  {
   "cell_type": "markdown",
   "id": "86073fff",
   "metadata": {},
   "source": [
    "### BINARY - SEARCH :-->"
   ]
  },
  {
   "cell_type": "code",
   "execution_count": 2,
   "id": "53c01b76",
   "metadata": {},
   "outputs": [
    {
     "name": "stdout",
     "output_type": "stream",
     "text": [
      "None\n"
     ]
    }
   ],
   "source": [
    "def binary_search(array, i, j, x):\n",
    "\n",
    "    ## Single Element Search\n",
    "    if i == j :\n",
    "        if array[i] == x :\n",
    "            return (i)\n",
    "        else :\n",
    "            return -1\n",
    "    else:\n",
    "        mid = i+(j-i)//2\n",
    "        if array[mid]==x:\n",
    "            return(mid)\n",
    "        elif array[mid]<x:\n",
    "             return binary_search(array, mid+1, j, x)\n",
    "\n",
    "array = [10 , 23, 35, 67, 75, 86, 90]\n",
    "i = 0\n",
    "j = len(array)-1\n",
    "x = 10\n",
    "result = binary_search(array , i,j,x)\n",
    "print(result)"
   ]
  },
  {
   "cell_type": "markdown",
   "id": "de9f791f",
   "metadata": {},
   "source": [
    "## SEARCH 2 - D ARRAY :->"
   ]
  },
  {
   "cell_type": "code",
   "execution_count": 3,
   "id": "cd0b6c52",
   "metadata": {},
   "outputs": [
    {
     "name": "stdout",
     "output_type": "stream",
     "text": [
      "True\n"
     ]
    }
   ],
   "source": [
    "def search2DsortedMatrix(matrix, target):\n",
    "    i = 0\n",
    "    ## No  of the column in the Matrix\n",
    "    j = len(matrix[0])-1\n",
    "    ## No  of the row in the matrix\n",
    "    n = len(matrix)\n",
    "    while (i<n and j>=0):\n",
    "        if matrix[i][j] and j>=0:\n",
    "            if matrix[i][j] == target:\n",
    "                return True\n",
    "            elif (matrix[i][j] > target):\n",
    "                j-=1\n",
    "            else:\n",
    "                i = i+1\n",
    "    return False\n",
    "matrix =[[1,4,7,11,15] , [2,5,8,12,19] , [3,6,9,16,22] , [10,13,14,17,24], [18, 21, 23,26, 30]]\n",
    "target = 19\n",
    "result = search2DsortedMatrix(matrix, target)\n",
    "print(result)"
   ]
  },
  {
   "cell_type": "markdown",
   "id": "76b2d0ee",
   "metadata": {},
   "source": [
    "###  SELECTION - SORT :---->"
   ]
  },
  {
   "cell_type": "code",
   "execution_count": 4,
   "id": "ef127189",
   "metadata": {},
   "outputs": [
    {
     "name": "stdout",
     "output_type": "stream",
     "text": [
      "[11, 16, 21, 25, 38, 44, 50, 99]"
     ]
    }
   ],
   "source": [
    "# Selection Sort Implementation\n",
    "def selection_sort(array):\n",
    "    #SELECTION SORT IMPLEMENTATION\n",
    "    #TIME COMPLEXITY O(N^2)\n",
    "    for i in range(len(array)):\n",
    "        #Define the minimum index\n",
    "        min_index = i\n",
    "        for j in range(i+1 , len(array)):\n",
    "            if array[min_index] > array[j]:\n",
    "                min_index = j\n",
    "        ## Swapping of the minimum index\n",
    "        array[i], array[min_index] = array[min_index],array[i]\n",
    "    return array\n",
    "\n",
    "\n",
    "\n",
    "# DRIVER CODE\n",
    "array = [50,25,38,44,99,16,11, 21]\n",
    "result = selection_sort(array)\n",
    "print(result, end = '')"
   ]
  },
  {
   "cell_type": "markdown",
   "id": "59ea4522",
   "metadata": {},
   "source": [
    "### BUBBLE SORT :-->"
   ]
  },
  {
   "cell_type": "code",
   "execution_count": 5,
   "id": "6334f564",
   "metadata": {},
   "outputs": [
    {
     "name": "stdout",
     "output_type": "stream",
     "text": [
      "[5, 15, 20, 50, 70, 90]"
     ]
    }
   ],
   "source": [
    "# TIME COMPLEXITY  = O(n)\n",
    "# SPACE COMPLEXITY = 0(1)\n",
    "def Bubble_sort(array):\n",
    "    n = len(array)\n",
    "    for i in range(n-1):\n",
    "        # Last i element are already in a sorted Manner\n",
    "        for j in range(n-i-1):\n",
    "            if array[j]>array[j+1]:\n",
    "                    #Swap element of array[j] with array[j+1]\n",
    "                    array[j],array[j+1]= array[j+1], array[j]\n",
    "    return array\n",
    "array = [70,20,50,90,5,15]\n",
    "result = Bubble_sort(array)\n",
    "print(result, end = '')"
   ]
  },
  {
   "cell_type": "markdown",
   "id": "51cc55ab",
   "metadata": {},
   "source": [
    "## INSERTION -SORT :---->"
   ]
  },
  {
   "cell_type": "code",
   "execution_count": 6,
   "id": "e252d501",
   "metadata": {},
   "outputs": [
    {
     "name": "stdout",
     "output_type": "stream",
     "text": [
      "[7, 50, 75, 85, 90, 95, 100, 110]"
     ]
    }
   ],
   "source": [
    "def insertion_sort(array):\n",
    "    for i in range(1, len(array)):\n",
    "        value = array[i]\n",
    "        j = i-1\n",
    "        while(j>=0 and  value < array[j]) :\n",
    "            array[j+1] = array[j]\n",
    "            j -= 1\n",
    "            array[j+1] = value\n",
    "    return array\n",
    "array = [75, 90, 100 , 95 , 85 , 50 , 110 , 7]\n",
    "result  = insertion_sort(array)\n",
    "print(result , end = '')\n"
   ]
  },
  {
   "cell_type": "markdown",
   "id": "ddb548d1",
   "metadata": {},
   "source": [
    "## UNIQUE EMAIL :---->"
   ]
  },
  {
   "cell_type": "code",
   "execution_count": 7,
   "id": "f1af621f",
   "metadata": {},
   "outputs": [
    {
     "name": "stdout",
     "output_type": "stream",
     "text": [
      "({'testemail@leetcode.com', 'testemail@lee.tcode.com'}, 2)\n"
     ]
    }
   ],
   "source": [
    "def unique(email):\n",
    "    unique_emails = set()\n",
    "    for email in email:\n",
    "        local_name , domain_name = email.split(\"@\")\n",
    "        # Rule 1+ Rule 2\n",
    "        local_rule = local_name.split(\"+\")[0].replace(\".\" , \"\")\n",
    "        unique_emails.add(local_rule + \"@\" + domain_name)\n",
    "    return (unique_emails , len (unique_emails))\n",
    "emails = [\"test.email+alex@leetcode.com\" , \"test.e.mail+bob.cathy@leetcode.com\" , \"testemail+david@lee.tcode.com\"]\n",
    "count = unique(emails)\n",
    "print(count)"
   ]
  },
  {
   "cell_type": "code",
   "execution_count": null,
   "id": "2a8a0b25",
   "metadata": {},
   "outputs": [],
   "source": []
  }
 ],
 "metadata": {
  "kernelspec": {
   "display_name": "Python 3 (ipykernel)",
   "language": "python",
   "name": "python3"
  },
  "language_info": {
   "codemirror_mode": {
    "name": "ipython",
    "version": 3
   },
   "file_extension": ".py",
   "mimetype": "text/x-python",
   "name": "python",
   "nbconvert_exporter": "python",
   "pygments_lexer": "ipython3",
   "version": "3.9.12"
  }
 },
 "nbformat": 4,
 "nbformat_minor": 5
}
